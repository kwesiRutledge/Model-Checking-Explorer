{
 "cells": [
  {
   "cell_type": "markdown",
   "metadata": {},
   "source": [
    "# Having Fun with Chapter 2 of Baier and Katoen\n",
    "\n",
    "Implemented a simple version of a transition class in python and now we will see if we can replicate some of the examples in Chapter 2."
   ]
  },
  {
   "cell_type": "code",
   "execution_count": 1,
   "metadata": {},
   "outputs": [
    {
     "name": "stdout",
     "output_type": "stream",
     "text": [
      "The first example is the classic Beverage Vending Machine Example:\n",
      "TS1.L =  {'pay': [], 'soda': ['paid', 'drink'], 'beer': ['paid', 'drink'], 'select': 'paid'}\n",
      "TS1.post(pay,insert_coin) =  ['select']\n",
      "TS1.post(select,tau) =  ['beer', 'soda']\n"
     ]
    }
   ],
   "source": [
    "import sys\n",
    "sys.path.append('lib/')\n",
    "import my_TS as TS\n",
    "\n",
    "print('The first example is the classic Beverage Vending Machine Example:')\n",
    "\n",
    "#Define the States of the Vending Machine according to Example 2.2 in text\n",
    "S = ['pay','soda','select','beer']\n",
    "I = [S[0]]\n",
    "Act = ['insert_coin','get_soda','get_beer','tau']\n",
    "Delta = [['pay','insert_coin','select']];\n",
    "Delta.append(['select','tau','beer'])\n",
    "Delta.append(['select','tau','soda'])\n",
    "Delta.append(['beer','get_beer','pay'])\n",
    "Delta.append(['soda','get_soda','pay'])\n",
    "AP = ['paid','drink']\n",
    "L = {}\n",
    "L['pay'] = []\n",
    "L['soda'] = AP\n",
    "L['beer'] = AP\n",
    "L['select'] = 'paid'\n",
    "\n",
    "TS1 = TS.my_TS(S,Act,Delta,I,AP,L)\n",
    "\n",
    "print('TS1.L = ',TS1.L)\n",
    "print('TS1.post(pay,insert_coin) = ',TS1.post('pay','insert_coin'))\n",
    "print('TS1.post(select,tau) = ',TS1.post('select','tau'))"
   ]
  },
  {
   "cell_type": "code",
   "execution_count": null,
   "metadata": {},
   "outputs": [],
   "source": []
  }
 ],
 "metadata": {
  "kernelspec": {
   "display_name": "Python 3",
   "language": "python",
   "name": "python3"
  },
  "language_info": {
   "codemirror_mode": {
    "name": "ipython",
    "version": 3
   },
   "file_extension": ".py",
   "mimetype": "text/x-python",
   "name": "python",
   "nbconvert_exporter": "python",
   "pygments_lexer": "ipython3",
   "version": "3.6.4"
  }
 },
 "nbformat": 4,
 "nbformat_minor": 2
}
